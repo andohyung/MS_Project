{
  "nbformat": 4,
  "nbformat_minor": 0,
  "metadata": {
    "colab": {
      "provenance": [],
      "machine_shape": "hm",
      "gpuType": "L4",
      "mount_file_id": "1JtotBS5SxFuA0Ma3nDBzwJ4pLa9RQr81",
      "authorship_tag": "ABX9TyOB9lrPbc5ykzvn8DOWluwF",
      "include_colab_link": true
    },
    "kernelspec": {
      "name": "python3",
      "display_name": "Python 3"
    },
    "language_info": {
      "name": "python"
    },
    "accelerator": "GPU"
  },
  "cells": [
    {
      "cell_type": "markdown",
      "metadata": {
        "id": "view-in-github",
        "colab_type": "text"
      },
      "source": [
        "<a href=\"https://colab.research.google.com/github/andohyung/MS_Project/blob/main/%EB%85%BC%EB%AC%B8%ED%85%8D%EC%8A%A4%ED%8A%B8%EC%B6%94%EC%B6%9C_TFIDF%ED%82%A4%EC%9B%8C%EB%93%9C%EC%B6%94%EC%B6%9C.ipynb\" target=\"_parent\"><img src=\"https://colab.research.google.com/assets/colab-badge.svg\" alt=\"Open In Colab\"/></a>"
      ]
    },
    {
      "cell_type": "markdown",
      "source": [
        "한국어 키워드"
      ],
      "metadata": {
        "id": "z6DEOUB-UqWU"
      }
    },
    {
      "cell_type": "code",
      "source": [
        "pip install numpy scikit-learn konlpy PyPDF2"
      ],
      "metadata": {
        "colab": {
          "base_uri": "https://localhost:8080/"
        },
        "collapsed": true,
        "id": "unwdj037MRj4",
        "outputId": "8120246e-1017-4efa-ef8d-e7746a0806ef"
      },
      "execution_count": 2,
      "outputs": [
        {
          "output_type": "stream",
          "name": "stdout",
          "text": [
            "Requirement already satisfied: numpy in /usr/local/lib/python3.10/dist-packages (1.26.4)\n",
            "Requirement already satisfied: scikit-learn in /usr/local/lib/python3.10/dist-packages (1.5.2)\n",
            "Collecting konlpy\n",
            "  Downloading konlpy-0.6.0-py2.py3-none-any.whl.metadata (1.9 kB)\n",
            "Collecting PyPDF2\n",
            "  Downloading pypdf2-3.0.1-py3-none-any.whl.metadata (6.8 kB)\n",
            "Requirement already satisfied: scipy>=1.6.0 in /usr/local/lib/python3.10/dist-packages (from scikit-learn) (1.13.1)\n",
            "Requirement already satisfied: joblib>=1.2.0 in /usr/local/lib/python3.10/dist-packages (from scikit-learn) (1.4.2)\n",
            "Requirement already satisfied: threadpoolctl>=3.1.0 in /usr/local/lib/python3.10/dist-packages (from scikit-learn) (3.5.0)\n",
            "Collecting JPype1>=0.7.0 (from konlpy)\n",
            "  Downloading JPype1-1.5.0-cp310-cp310-manylinux_2_17_x86_64.manylinux2014_x86_64.whl.metadata (4.9 kB)\n",
            "Requirement already satisfied: lxml>=4.1.0 in /usr/local/lib/python3.10/dist-packages (from konlpy) (5.3.0)\n",
            "Requirement already satisfied: packaging in /usr/local/lib/python3.10/dist-packages (from JPype1>=0.7.0->konlpy) (24.1)\n",
            "Downloading konlpy-0.6.0-py2.py3-none-any.whl (19.4 MB)\n",
            "\u001b[2K   \u001b[90m━━━━━━━━━━━━━━━━━━━━━━━━━━━━━━━━━━━━━━━━\u001b[0m \u001b[32m19.4/19.4 MB\u001b[0m \u001b[31m77.3 MB/s\u001b[0m eta \u001b[36m0:00:00\u001b[0m\n",
            "\u001b[?25hDownloading pypdf2-3.0.1-py3-none-any.whl (232 kB)\n",
            "\u001b[2K   \u001b[90m━━━━━━━━━━━━━━━━━━━━━━━━━━━━━━━━━━━━━━━━\u001b[0m \u001b[32m232.6/232.6 kB\u001b[0m \u001b[31m21.2 MB/s\u001b[0m eta \u001b[36m0:00:00\u001b[0m\n",
            "\u001b[?25hDownloading JPype1-1.5.0-cp310-cp310-manylinux_2_17_x86_64.manylinux2014_x86_64.whl (488 kB)\n",
            "\u001b[2K   \u001b[90m━━━━━━━━━━━━━━━━━━━━━━━━━━━━━━━━━━━━━━━━\u001b[0m \u001b[32m488.6/488.6 kB\u001b[0m \u001b[31m38.1 MB/s\u001b[0m eta \u001b[36m0:00:00\u001b[0m\n",
            "\u001b[?25hInstalling collected packages: PyPDF2, JPype1, konlpy\n",
            "Successfully installed JPype1-1.5.0 PyPDF2-3.0.1 konlpy-0.6.0\n"
          ]
        }
      ]
    },
    {
      "cell_type": "code",
      "source": [
        "import re\n",
        "import numpy as np\n",
        "from sklearn.feature_extraction.text import TfidfVectorizer\n",
        "from konlpy.tag import Okt\n",
        "import PyPDF2\n",
        "\n",
        "# KONLPY 설치 코드 (주석 처리하여 참고용으로 제공)\n",
        "# !pip install konlpy\n",
        "\n",
        "# PDF 파일에서 텍스트 추출 함수\n",
        "def extract_text_from_pdf(pdf_path):\n",
        "    text = \"\"\n",
        "    with open(pdf_path, 'rb') as file:\n",
        "        reader = PyPDF2.PdfReader(file)\n",
        "        for page in reader.pages:\n",
        "            text += page.extract_text() + \"\\n\"\n",
        "    return text\n",
        "\n",
        "# PDF 파일 경로 설정\n",
        "pdf_path = '/content/drive/MyDrive/멋사_실전프로젝트1/프로젝트1_입력_논문리스트/일일 착용 콘택트렌즈의 연속 착용에 따른 세균 오염.pdf'\n",
        "\n",
        "# PDF 파일에서 텍스트 추출\n",
        "korean_text = extract_text_from_pdf(pdf_path)\n",
        "\n",
        "# 텍스트 전처리 함수\n",
        "def preprocess_text(text):\n",
        "    text = re.sub(r'[^\\w\\s]', '', text)  # 특수문자 제거\n",
        "    text = re.sub(r'\\d+', '', text)  # 숫자 제거\n",
        "    return text\n",
        "\n",
        "# 형태소 분석 및 명사 추출 함수\n",
        "def extract_nouns(text):\n",
        "    okt = Okt()\n",
        "    nouns = okt.nouns(text)\n",
        "    return [' '.join(nouns)]\n",
        "\n",
        "# 텍스트 전처리\n",
        "preprocessed_text = preprocess_text(korean_text)\n",
        "\n",
        "# 명사만 추출\n",
        "nouns_text = extract_nouns(preprocessed_text)\n",
        "\n",
        "# TF-IDF 벡터라이저 초기화 및 키워드 추출 (ngram_range=(1, 2)로 설정하여 unigram과 bigram을 모두 고려)\n",
        "vectorizer = TfidfVectorizer(ngram_range=(1, 2))\n",
        "tfidf_matrix = vectorizer.fit_transform(nouns_text)\n",
        "\n",
        "# TF-IDF 결과를 가져와서 높은 순으로 키워드 5개 추출\n",
        "feature_array = np.array(vectorizer.get_feature_names_out())\n",
        "tfidf_sorting = np.argsort(tfidf_matrix.toarray()).flatten()[::-1]\n",
        "\n",
        "# 상위 5개 키워드 출력\n",
        "top_n = 10\n",
        "top_keywords = feature_array[tfidf_sorting][:top_n]\n",
        "print(\"Top 5 Keywords:\", top_keywords)\n",
        "\n"
      ],
      "metadata": {
        "colab": {
          "base_uri": "https://localhost:8080/",
          "height": 379
        },
        "id": "_1u5MHQrOCwa",
        "outputId": "8316a815-8a59-4a36-afd7-f13d49b1ebf3"
      },
      "execution_count": 4,
      "outputs": [
        {
          "output_type": "error",
          "ename": "ValueError",
          "evalue": "empty vocabulary; perhaps the documents only contain stop words",
          "traceback": [
            "\u001b[0;31m---------------------------------------------------------------------------\u001b[0m",
            "\u001b[0;31mValueError\u001b[0m                                Traceback (most recent call last)",
            "\u001b[0;32m<ipython-input-4-3a2db7f4b1c2>\u001b[0m in \u001b[0;36m<cell line: 45>\u001b[0;34m()\u001b[0m\n\u001b[1;32m     43\u001b[0m \u001b[0;31m# TF-IDF 벡터라이저 초기화 및 키워드 추출 (ngram_range=(1, 2)로 설정하여 unigram과 bigram을 모두 고려)\u001b[0m\u001b[0;34m\u001b[0m\u001b[0;34m\u001b[0m\u001b[0m\n\u001b[1;32m     44\u001b[0m \u001b[0mvectorizer\u001b[0m \u001b[0;34m=\u001b[0m \u001b[0mTfidfVectorizer\u001b[0m\u001b[0;34m(\u001b[0m\u001b[0mngram_range\u001b[0m\u001b[0;34m=\u001b[0m\u001b[0;34m(\u001b[0m\u001b[0;36m1\u001b[0m\u001b[0;34m,\u001b[0m \u001b[0;36m2\u001b[0m\u001b[0;34m)\u001b[0m\u001b[0;34m)\u001b[0m\u001b[0;34m\u001b[0m\u001b[0;34m\u001b[0m\u001b[0m\n\u001b[0;32m---> 45\u001b[0;31m \u001b[0mtfidf_matrix\u001b[0m \u001b[0;34m=\u001b[0m \u001b[0mvectorizer\u001b[0m\u001b[0;34m.\u001b[0m\u001b[0mfit_transform\u001b[0m\u001b[0;34m(\u001b[0m\u001b[0mnouns_text\u001b[0m\u001b[0;34m)\u001b[0m\u001b[0;34m\u001b[0m\u001b[0;34m\u001b[0m\u001b[0m\n\u001b[0m\u001b[1;32m     46\u001b[0m \u001b[0;34m\u001b[0m\u001b[0m\n\u001b[1;32m     47\u001b[0m \u001b[0;31m# TF-IDF 결과를 가져와서 높은 순으로 키워드 5개 추출\u001b[0m\u001b[0;34m\u001b[0m\u001b[0;34m\u001b[0m\u001b[0m\n",
            "\u001b[0;32m/usr/local/lib/python3.10/dist-packages/sklearn/feature_extraction/text.py\u001b[0m in \u001b[0;36mfit_transform\u001b[0;34m(self, raw_documents, y)\u001b[0m\n\u001b[1;32m   2089\u001b[0m             \u001b[0msublinear_tf\u001b[0m\u001b[0;34m=\u001b[0m\u001b[0mself\u001b[0m\u001b[0;34m.\u001b[0m\u001b[0msublinear_tf\u001b[0m\u001b[0;34m,\u001b[0m\u001b[0;34m\u001b[0m\u001b[0;34m\u001b[0m\u001b[0m\n\u001b[1;32m   2090\u001b[0m         )\n\u001b[0;32m-> 2091\u001b[0;31m         \u001b[0mX\u001b[0m \u001b[0;34m=\u001b[0m \u001b[0msuper\u001b[0m\u001b[0;34m(\u001b[0m\u001b[0;34m)\u001b[0m\u001b[0;34m.\u001b[0m\u001b[0mfit_transform\u001b[0m\u001b[0;34m(\u001b[0m\u001b[0mraw_documents\u001b[0m\u001b[0;34m)\u001b[0m\u001b[0;34m\u001b[0m\u001b[0;34m\u001b[0m\u001b[0m\n\u001b[0m\u001b[1;32m   2092\u001b[0m         \u001b[0mself\u001b[0m\u001b[0;34m.\u001b[0m\u001b[0m_tfidf\u001b[0m\u001b[0;34m.\u001b[0m\u001b[0mfit\u001b[0m\u001b[0;34m(\u001b[0m\u001b[0mX\u001b[0m\u001b[0;34m)\u001b[0m\u001b[0;34m\u001b[0m\u001b[0;34m\u001b[0m\u001b[0m\n\u001b[1;32m   2093\u001b[0m         \u001b[0;31m# X is already a transformed view of raw_documents so\u001b[0m\u001b[0;34m\u001b[0m\u001b[0;34m\u001b[0m\u001b[0m\n",
            "\u001b[0;32m/usr/local/lib/python3.10/dist-packages/sklearn/base.py\u001b[0m in \u001b[0;36mwrapper\u001b[0;34m(estimator, *args, **kwargs)\u001b[0m\n\u001b[1;32m   1471\u001b[0m                 )\n\u001b[1;32m   1472\u001b[0m             ):\n\u001b[0;32m-> 1473\u001b[0;31m                 \u001b[0;32mreturn\u001b[0m \u001b[0mfit_method\u001b[0m\u001b[0;34m(\u001b[0m\u001b[0mestimator\u001b[0m\u001b[0;34m,\u001b[0m \u001b[0;34m*\u001b[0m\u001b[0margs\u001b[0m\u001b[0;34m,\u001b[0m \u001b[0;34m**\u001b[0m\u001b[0mkwargs\u001b[0m\u001b[0;34m)\u001b[0m\u001b[0;34m\u001b[0m\u001b[0;34m\u001b[0m\u001b[0m\n\u001b[0m\u001b[1;32m   1474\u001b[0m \u001b[0;34m\u001b[0m\u001b[0m\n\u001b[1;32m   1475\u001b[0m         \u001b[0;32mreturn\u001b[0m \u001b[0mwrapper\u001b[0m\u001b[0;34m\u001b[0m\u001b[0;34m\u001b[0m\u001b[0m\n",
            "\u001b[0;32m/usr/local/lib/python3.10/dist-packages/sklearn/feature_extraction/text.py\u001b[0m in \u001b[0;36mfit_transform\u001b[0;34m(self, raw_documents, y)\u001b[0m\n\u001b[1;32m   1370\u001b[0m                     \u001b[0;32mbreak\u001b[0m\u001b[0;34m\u001b[0m\u001b[0;34m\u001b[0m\u001b[0m\n\u001b[1;32m   1371\u001b[0m \u001b[0;34m\u001b[0m\u001b[0m\n\u001b[0;32m-> 1372\u001b[0;31m         \u001b[0mvocabulary\u001b[0m\u001b[0;34m,\u001b[0m \u001b[0mX\u001b[0m \u001b[0;34m=\u001b[0m \u001b[0mself\u001b[0m\u001b[0;34m.\u001b[0m\u001b[0m_count_vocab\u001b[0m\u001b[0;34m(\u001b[0m\u001b[0mraw_documents\u001b[0m\u001b[0;34m,\u001b[0m \u001b[0mself\u001b[0m\u001b[0;34m.\u001b[0m\u001b[0mfixed_vocabulary_\u001b[0m\u001b[0;34m)\u001b[0m\u001b[0;34m\u001b[0m\u001b[0;34m\u001b[0m\u001b[0m\n\u001b[0m\u001b[1;32m   1373\u001b[0m \u001b[0;34m\u001b[0m\u001b[0m\n\u001b[1;32m   1374\u001b[0m         \u001b[0;32mif\u001b[0m \u001b[0mself\u001b[0m\u001b[0;34m.\u001b[0m\u001b[0mbinary\u001b[0m\u001b[0;34m:\u001b[0m\u001b[0;34m\u001b[0m\u001b[0;34m\u001b[0m\u001b[0m\n",
            "\u001b[0;32m/usr/local/lib/python3.10/dist-packages/sklearn/feature_extraction/text.py\u001b[0m in \u001b[0;36m_count_vocab\u001b[0;34m(self, raw_documents, fixed_vocab)\u001b[0m\n\u001b[1;32m   1276\u001b[0m             \u001b[0mvocabulary\u001b[0m \u001b[0;34m=\u001b[0m \u001b[0mdict\u001b[0m\u001b[0;34m(\u001b[0m\u001b[0mvocabulary\u001b[0m\u001b[0;34m)\u001b[0m\u001b[0;34m\u001b[0m\u001b[0;34m\u001b[0m\u001b[0m\n\u001b[1;32m   1277\u001b[0m             \u001b[0;32mif\u001b[0m \u001b[0;32mnot\u001b[0m \u001b[0mvocabulary\u001b[0m\u001b[0;34m:\u001b[0m\u001b[0;34m\u001b[0m\u001b[0;34m\u001b[0m\u001b[0m\n\u001b[0;32m-> 1278\u001b[0;31m                 raise ValueError(\n\u001b[0m\u001b[1;32m   1279\u001b[0m                     \u001b[0;34m\"empty vocabulary; perhaps the documents only contain stop words\"\u001b[0m\u001b[0;34m\u001b[0m\u001b[0;34m\u001b[0m\u001b[0m\n\u001b[1;32m   1280\u001b[0m                 )\n",
            "\u001b[0;31mValueError\u001b[0m: empty vocabulary; perhaps the documents only contain stop words"
          ]
        }
      ]
    },
    {
      "cell_type": "markdown",
      "source": [
        "영어-한국어 키워드 추출"
      ],
      "metadata": {
        "id": "S2nNHt2NT_Ns"
      }
    },
    {
      "cell_type": "code",
      "source": [
        "import re\n",
        "import numpy as np\n",
        "from sklearn.feature_extraction.text import TfidfVectorizer\n",
        "from konlpy.tag import Okt\n",
        "import PyPDF2\n",
        "\n",
        "# KONLPY 설치 코드 (주석 처리하여 참고용으로 제공)\n",
        "# !pip install konlpy\n",
        "\n",
        "# PDF 파일에서 텍스트 추출 함수\n",
        "def extract_text_from_pdf(pdf_path):\n",
        "    text = \"\"\n",
        "    with open(pdf_path, 'rb') as file:\n",
        "        reader = PyPDF2.PdfReader(file)\n",
        "        for page in reader.pages:\n",
        "            text += page.extract_text() + \"\\n\"\n",
        "    return text\n",
        "\n",
        "# PDF 파일 경로 설정\n",
        "pdf_path = '/content/drive/MyDrive/멋사_실전프로젝트1/프로젝트1_입력_논문리스트/bart_paper.pdf'\n",
        "\n",
        "# PDF 파일에서 텍스트 추출\n",
        "korean_text = extract_text_from_pdf(pdf_path)\n",
        "\n",
        "# 텍스트 전처리 함수\n",
        "def preprocess_text(text):\n",
        "    text = re.sub(r'[^\\w\\s]', '', text)  # 특수문자 제거\n",
        "    text = re.sub(r'\\d+', '', text)  # 숫자 제거\n",
        "    return text\n",
        "\n",
        "# 형태소 분석 및 명사 추출 함수\n",
        "def extract_nouns_and_english(text):\n",
        "    okt = Okt()\n",
        "    nouns = okt.nouns(text)\n",
        "    # 영어 단어도 포함하기 위해 정규 표현식을 사용해 영어 단어 추출\n",
        "    english_words = re.findall(r'[a-zA-Z]+', text)\n",
        "    return [' '.join(nouns + english_words)]\n",
        "\n",
        "# 텍스트 전처리\n",
        "preprocessed_text = preprocess_text(korean_text)\n",
        "\n",
        "# 명사 및 영어 단어 추출\n",
        "nouns_text = extract_nouns_and_english(preprocessed_text)\n",
        "\n",
        "# TF-IDF 벡터라이저 초기화 및 키워드 추출 (ngram_range=(1, 2)로 설정하여 unigram과 bigram을 모두 고려)\n",
        "# 불용어(stop words) 제거를 위해 stop_words 파라미터 설정\n",
        "stop_words = ['of', 'and', 'the', 'in', 'to', 'for', 'on', 'with', 'at', 'by', 'an', 'be', 'this', 'is']\n",
        "vectorizer = TfidfVectorizer(ngram_range=(1, 2), stop_words=stop_words)\n",
        "tfidf_matrix = vectorizer.fit_transform(nouns_text)\n",
        "\n",
        "# TF-IDF 결과를 가져와서 높은 순으로 키워드 5개 추출\n",
        "feature_array = np.array(vectorizer.get_feature_names_out())\n",
        "tfidf_scores = tfidf_matrix.toarray().flatten()\n",
        "\n",
        "# TF-IDF 가중치를 기준으로 정렬\n",
        "tfidf_sorting = np.argsort(tfidf_scores)[::-1]\n",
        "\n",
        "# 중복된 키워드 제거 및 상위 5개 키워드 추출\n",
        "seen_keywords = set()\n",
        "top_keywords = []\n",
        "for idx in tfidf_sorting:\n",
        "    keyword = feature_array[idx]\n",
        "    if keyword not in seen_keywords:\n",
        "        top_keywords.append(keyword)\n",
        "        seen_keywords.add(keyword)\n",
        "    if len(top_keywords) >= 10:\n",
        "        break\n",
        "\n",
        "# 상위 5개 키워드 출력\n",
        "print(\"Top 5 Keywords:\", top_keywords)\n",
        "\n",
        "# 결과 예시 출력\n",
        "top_keywords"
      ],
      "metadata": {
        "colab": {
          "base_uri": "https://localhost:8080/"
        },
        "id": "xi5OKM85T-6I",
        "outputId": "49bc9421-da31-454f-c4af-2f871bd79ba1"
      },
      "execution_count": 7,
      "outputs": [
        {
          "output_type": "stream",
          "name": "stdout",
          "text": [
            "Top 5 Keywords: ['bart', 'we', 'et al', 'et', 'al', 'model', 'are', 'tasks', 'pretraining', 'arxiv']\n"
          ]
        },
        {
          "output_type": "execute_result",
          "data": {
            "text/plain": [
              "['bart',\n",
              " 'we',\n",
              " 'et al',\n",
              " 'et',\n",
              " 'al',\n",
              " 'model',\n",
              " 'are',\n",
              " 'tasks',\n",
              " 'pretraining',\n",
              " 'arxiv']"
            ]
          },
          "metadata": {},
          "execution_count": 7
        }
      ]
    },
    {
      "cell_type": "markdown",
      "source": [
        "영어 전용 키워드 추출"
      ],
      "metadata": {
        "id": "wXM92dJ8uzS8"
      }
    },
    {
      "cell_type": "code",
      "source": [],
      "metadata": {
        "id": "gCEb9kxBxmrg"
      },
      "execution_count": null,
      "outputs": []
    },
    {
      "cell_type": "code",
      "source": [
        "# 필요 패키지 설치\n",
        "!pip install pymupdf scikit-learn\n",
        "\n",
        "import fitz  # PyMuPDF\n",
        "from sklearn.feature_extraction.text import TfidfVectorizer\n",
        "import numpy as np\n",
        "import re\n",
        "\n",
        "# PDF 파일 텍스트 추출 함수\n",
        "def extract_text_from_pdf(pdf_path):\n",
        "    text = \"\"\n",
        "    with fitz.open(pdf_path) as doc:\n",
        "        for page_num in range(len(doc)):\n",
        "            page = doc[page_num]\n",
        "            text += page.get_text()\n",
        "    return text\n",
        "\n",
        "# 전처리 함수 (특수 문자 제거 및 소문자 변환)\n",
        "def preprocess_text(text):\n",
        "    # 불필요한 특수 문자와 숫자를 제거하고 소문자로 변환합니다.\n",
        "    text = re.sub(r'\\W+', ' ', text)\n",
        "    return text.lower()\n",
        "\n",
        "# TF-IDF를 통한 키워드 추출 함수\n",
        "def extract_keywords_tfidf(text, top_n=10):\n",
        "    vectorizer = TfidfVectorizer(stop_words='english', max_features=5000)\n",
        "    tfidf_matrix = vectorizer.fit_transform([text])\n",
        "    feature_names = vectorizer.get_feature_names_out()\n",
        "\n",
        "    # TF-IDF 값을 배열로 변환하여 가장 높은 값의 인덱스 추출\n",
        "    tfidf_scores = tfidf_matrix.toarray()[0]\n",
        "    top_indices = np.argsort(tfidf_scores)[-top_n:]\n",
        "\n",
        "    # 상위 키워드 및 점수 추출\n",
        "    keywords = [(feature_names[i], tfidf_scores[i]) for i in top_indices]\n",
        "    return sorted(keywords, key=lambda x: -x[1])  # 점수 내림차순 정렬\n",
        "\n",
        "# 파일 경로 입력\n",
        "pdf_path = '/content/drive/MyDrive/멋사_실전프로젝트1/프로젝트1_입력_논문리스트/bart_paper.pdf'  # 여기에 PDF 파일 경로를 넣으세요\n",
        "\n",
        "# PDF 텍스트 추출\n",
        "raw_text = extract_text_from_pdf(pdf_path)\n",
        "processed_text = preprocess_text(raw_text)\n",
        "\n",
        "# 키워드 추출\n",
        "top_keywords = extract_keywords_tfidf(processed_text, top_n=20)\n",
        "\n",
        "# 결과 출력\n",
        "print(\"Top Keywords (TF-IDF):\")\n",
        "for keyword, score in top_keywords:\n",
        "    print(f\"{keyword}: {score}\")\n"
      ],
      "metadata": {
        "colab": {
          "base_uri": "https://localhost:8080/"
        },
        "id": "csCnuncyuy-e",
        "outputId": "c4682a11-7c9d-48ce-c3ef-7c6b39c48ab2"
      },
      "execution_count": 11,
      "outputs": [
        {
          "output_type": "stream",
          "name": "stdout",
          "text": [
            "Requirement already satisfied: pymupdf in /usr/local/lib/python3.10/dist-packages (1.24.13)\n",
            "Requirement already satisfied: scikit-learn in /usr/local/lib/python3.10/dist-packages (1.5.2)\n",
            "Requirement already satisfied: numpy>=1.19.5 in /usr/local/lib/python3.10/dist-packages (from scikit-learn) (1.26.4)\n",
            "Requirement already satisfied: scipy>=1.6.0 in /usr/local/lib/python3.10/dist-packages (from scikit-learn) (1.13.1)\n",
            "Requirement already satisfied: joblib>=1.2.0 in /usr/local/lib/python3.10/dist-packages (from scikit-learn) (1.4.2)\n",
            "Requirement already satisfied: threadpoolctl>=3.1.0 in /usr/local/lib/python3.10/dist-packages (from scikit-learn) (3.5.0)\n",
            "Top Keywords (TF-IDF):\n",
            "bart: 0.3725307022304963\n",
            "al: 0.2793980266728722\n",
            "et: 0.2793980266728722\n",
            "model: 0.25510254609262245\n",
            "2019: 0.24295480580249756\n",
            "pre: 0.21056083169549789\n",
            "training: 0.17411761082512325\n",
            "tasks: 0.16601911729837335\n",
            "arxiv: 0.16196987053499837\n",
            "language: 0.15792062377162341\n",
            "decoder: 0.13767438995474862\n",
            "encoder: 0.13767438995474862\n",
            "sequence: 0.12957589642799872\n",
            "text: 0.12552664966462374\n",
            "models: 0.11337890937449886\n",
            "bert: 0.10528041584774894\n",
            "generation: 0.10528041584774894\n",
            "token: 0.09718192232099902\n",
            "performance: 0.09313267555762407\n",
            "tokens: 0.0890834287942491\n"
          ]
        }
      ]
    }
  ]
}