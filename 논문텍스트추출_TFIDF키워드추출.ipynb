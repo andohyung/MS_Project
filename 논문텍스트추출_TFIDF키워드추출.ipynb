{
  "nbformat": 4,
  "nbformat_minor": 0,
  "metadata": {
    "colab": {
      "provenance": [],
      "machine_shape": "hm",
      "gpuType": "L4",
      "mount_file_id": "1JtotBS5SxFuA0Ma3nDBzwJ4pLa9RQr81",
      "authorship_tag": "ABX9TyNvE4nid0hnmwb0E1NRukSn",
      "include_colab_link": true
    },
    "kernelspec": {
      "name": "python3",
      "display_name": "Python 3"
    },
    "language_info": {
      "name": "python"
    },
    "accelerator": "GPU"
  },
  "cells": [
    {
      "cell_type": "markdown",
      "metadata": {
        "id": "view-in-github",
        "colab_type": "text"
      },
      "source": [
        "<a href=\"https://colab.research.google.com/github/andohyung/MS_Project/blob/main/%EB%85%BC%EB%AC%B8%ED%85%8D%EC%8A%A4%ED%8A%B8%EC%B6%94%EC%B6%9C_TFIDF%ED%82%A4%EC%9B%8C%EB%93%9C%EC%B6%94%EC%B6%9C.ipynb\" target=\"_parent\"><img src=\"https://colab.research.google.com/assets/colab-badge.svg\" alt=\"Open In Colab\"/></a>"
      ]
    },
    {
      "cell_type": "markdown",
      "source": [
        "한국어 키워드"
      ],
      "metadata": {
        "id": "z6DEOUB-UqWU"
      }
    },
    {
      "cell_type": "code",
      "source": [
        "pip install numpy scikit-learn konlpy PyPDF2"
      ],
      "metadata": {
        "colab": {
          "base_uri": "https://localhost:8080/"
        },
        "collapsed": true,
        "id": "unwdj037MRj4",
        "outputId": "aedea2a6-0f8b-4a84-e6e6-ef4d6c8c44a9"
      },
      "execution_count": null,
      "outputs": [
        {
          "output_type": "stream",
          "name": "stdout",
          "text": [
            "Requirement already satisfied: numpy in /usr/local/lib/python3.10/dist-packages (1.26.4)\n",
            "Requirement already satisfied: scikit-learn in /usr/local/lib/python3.10/dist-packages (1.5.2)\n",
            "Collecting konlpy\n",
            "  Downloading konlpy-0.6.0-py2.py3-none-any.whl.metadata (1.9 kB)\n",
            "Requirement already satisfied: PyPDF2 in /usr/local/lib/python3.10/dist-packages (3.0.1)\n",
            "Requirement already satisfied: scipy>=1.6.0 in /usr/local/lib/python3.10/dist-packages (from scikit-learn) (1.13.1)\n",
            "Requirement already satisfied: joblib>=1.2.0 in /usr/local/lib/python3.10/dist-packages (from scikit-learn) (1.4.2)\n",
            "Requirement already satisfied: threadpoolctl>=3.1.0 in /usr/local/lib/python3.10/dist-packages (from scikit-learn) (3.5.0)\n",
            "Collecting JPype1>=0.7.0 (from konlpy)\n",
            "  Downloading JPype1-1.5.0-cp310-cp310-manylinux_2_17_x86_64.manylinux2014_x86_64.whl.metadata (4.9 kB)\n",
            "Requirement already satisfied: lxml>=4.1.0 in /usr/local/lib/python3.10/dist-packages (from konlpy) (5.3.0)\n",
            "Requirement already satisfied: packaging in /usr/local/lib/python3.10/dist-packages (from JPype1>=0.7.0->konlpy) (24.1)\n",
            "Downloading konlpy-0.6.0-py2.py3-none-any.whl (19.4 MB)\n",
            "\u001b[2K   \u001b[90m━━━━━━━━━━━━━━━━━━━━━━━━━━━━━━━━━━━━━━━━\u001b[0m \u001b[32m19.4/19.4 MB\u001b[0m \u001b[31m86.6 MB/s\u001b[0m eta \u001b[36m0:00:00\u001b[0m\n",
            "\u001b[?25hDownloading JPype1-1.5.0-cp310-cp310-manylinux_2_17_x86_64.manylinux2014_x86_64.whl (488 kB)\n",
            "\u001b[2K   \u001b[90m━━━━━━━━━━━━━━━━━━━━━━━━━━━━━━━━━━━━━━━━\u001b[0m \u001b[32m488.6/488.6 kB\u001b[0m \u001b[31m34.1 MB/s\u001b[0m eta \u001b[36m0:00:00\u001b[0m\n",
            "\u001b[?25hInstalling collected packages: JPype1, konlpy\n",
            "Successfully installed JPype1-1.5.0 konlpy-0.6.0\n"
          ]
        }
      ]
    },
    {
      "cell_type": "code",
      "source": [
        "import re\n",
        "import numpy as np\n",
        "from sklearn.feature_extraction.text import TfidfVectorizer\n",
        "from konlpy.tag import Okt\n",
        "import PyPDF2\n",
        "\n",
        "# KONLPY 설치 코드 (주석 처리하여 참고용으로 제공)\n",
        "# !pip install konlpy\n",
        "\n",
        "# PDF 파일에서 텍스트 추출 함수\n",
        "def extract_text_from_pdf(pdf_path):\n",
        "    text = \"\"\n",
        "    with open(pdf_path, 'rb') as file:\n",
        "        reader = PyPDF2.PdfReader(file)\n",
        "        for page in reader.pages:\n",
        "            text += page.extract_text() + \"\\n\"\n",
        "    return text\n",
        "\n",
        "# PDF 파일 경로 설정\n",
        "pdf_path = '/content/drive/MyDrive/멋사_실전프로젝트1/프로젝트1_입력_논문리스트/일일 착용 콘택트렌즈의 연속 착용에 따른 세균 오염.pdf'\n",
        "\n",
        "# PDF 파일에서 텍스트 추출\n",
        "korean_text = extract_text_from_pdf(pdf_path)\n",
        "\n",
        "# 텍스트 전처리 함수\n",
        "def preprocess_text(text):\n",
        "    text = re.sub(r'[^\\w\\s]', '', text)  # 특수문자 제거\n",
        "    text = re.sub(r'\\d+', '', text)  # 숫자 제거\n",
        "    return text\n",
        "\n",
        "# 형태소 분석 및 명사 추출 함수\n",
        "def extract_nouns(text):\n",
        "    okt = Okt()\n",
        "    nouns = okt.nouns(text)\n",
        "    return [' '.join(nouns)]\n",
        "\n",
        "# 텍스트 전처리\n",
        "preprocessed_text = preprocess_text(korean_text)\n",
        "\n",
        "# 명사만 추출\n",
        "nouns_text = extract_nouns(preprocessed_text)\n",
        "\n",
        "# TF-IDF 벡터라이저 초기화 및 키워드 추출 (ngram_range=(1, 2)로 설정하여 unigram과 bigram을 모두 고려)\n",
        "vectorizer = TfidfVectorizer(ngram_range=(1, 2))\n",
        "tfidf_matrix = vectorizer.fit_transform(nouns_text)\n",
        "\n",
        "# TF-IDF 결과를 가져와서 높은 순으로 키워드 5개 추출\n",
        "feature_array = np.array(vectorizer.get_feature_names_out())\n",
        "tfidf_sorting = np.argsort(tfidf_matrix.toarray()).flatten()[::-1]\n",
        "\n",
        "# 상위 5개 키워드 출력\n",
        "top_n = 10\n",
        "top_keywords = feature_array[tfidf_sorting][:top_n]\n",
        "print(\"Top 5 Keywords:\", top_keywords)\n",
        "\n"
      ],
      "metadata": {
        "colab": {
          "base_uri": "https://localhost:8080/"
        },
        "id": "_1u5MHQrOCwa",
        "outputId": "c169e33b-3bc1-479b-e539-4b26bf7f7b5e"
      },
      "execution_count": null,
      "outputs": [
        {
          "output_type": "stream",
          "name": "stdout",
          "text": [
            "Top 5 Keywords: ['렌즈' '착용' '사용' '세균' '착용 렌즈' '동정' '미생물' '콘택트렌즈' '식염수' '일일 착용']\n"
          ]
        }
      ]
    },
    {
      "cell_type": "markdown",
      "source": [
        "영어-한국어 키워드 추출"
      ],
      "metadata": {
        "id": "S2nNHt2NT_Ns"
      }
    },
    {
      "cell_type": "code",
      "source": [
        "import re\n",
        "import numpy as np\n",
        "from sklearn.feature_extraction.text import TfidfVectorizer\n",
        "from konlpy.tag import Okt\n",
        "import PyPDF2\n",
        "\n",
        "# KONLPY 설치 코드 (주석 처리하여 참고용으로 제공)\n",
        "# !pip install konlpy\n",
        "\n",
        "# PDF 파일에서 텍스트 추출 함수\n",
        "def extract_text_from_pdf(pdf_path):\n",
        "    text = \"\"\n",
        "    with open(pdf_path, 'rb') as file:\n",
        "        reader = PyPDF2.PdfReader(file)\n",
        "        for page in reader.pages:\n",
        "            text += page.extract_text() + \"\\n\"\n",
        "    return text\n",
        "\n",
        "# PDF 파일 경로 설정\n",
        "pdf_path = '/content/drive/MyDrive/멋사_실전프로젝트1/프로젝트1_입력_논문리스트/피부암분류.pdf'\n",
        "\n",
        "# PDF 파일에서 텍스트 추출\n",
        "korean_text = extract_text_from_pdf(pdf_path)\n",
        "\n",
        "# 텍스트 전처리 함수\n",
        "def preprocess_text(text):\n",
        "    text = re.sub(r'[^\\w\\s]', '', text)  # 특수문자 제거\n",
        "    text = re.sub(r'\\d+', '', text)  # 숫자 제거\n",
        "    return text\n",
        "\n",
        "# 형태소 분석 및 명사 추출 함수\n",
        "def extract_nouns_and_english(text):\n",
        "    okt = Okt()\n",
        "    nouns = okt.nouns(text)\n",
        "    # 영어 단어도 포함하기 위해 정규 표현식을 사용해 영어 단어 추출\n",
        "    english_words = re.findall(r'[a-zA-Z]+', text)\n",
        "    return [' '.join(nouns + english_words)]\n",
        "\n",
        "# 텍스트 전처리\n",
        "preprocessed_text = preprocess_text(korean_text)\n",
        "\n",
        "# 명사 및 영어 단어 추출\n",
        "nouns_text = extract_nouns_and_english(preprocessed_text)\n",
        "\n",
        "# TF-IDF 벡터라이저 초기화 및 키워드 추출 (ngram_range=(1, 2)로 설정하여 unigram과 bigram을 모두 고려)\n",
        "# 불용어(stop words) 제거를 위해 stop_words 파라미터 설정\n",
        "stop_words = ['of', 'and', 'the', 'in', 'to', 'for', 'on', 'with', 'at', 'by', 'an', 'be', 'this', 'is']\n",
        "vectorizer = TfidfVectorizer(ngram_range=(1, 2), stop_words=stop_words)\n",
        "tfidf_matrix = vectorizer.fit_transform(nouns_text)\n",
        "\n",
        "# TF-IDF 결과를 가져와서 높은 순으로 키워드 5개 추출\n",
        "feature_array = np.array(vectorizer.get_feature_names_out())\n",
        "tfidf_scores = tfidf_matrix.toarray().flatten()\n",
        "\n",
        "# TF-IDF 가중치를 기준으로 정렬\n",
        "tfidf_sorting = np.argsort(tfidf_scores)[::-1]\n",
        "\n",
        "# 중복된 키워드 제거 및 상위 5개 키워드 추출\n",
        "seen_keywords = set()\n",
        "top_keywords = []\n",
        "for idx in tfidf_sorting:\n",
        "    keyword = feature_array[idx]\n",
        "    if keyword not in seen_keywords:\n",
        "        top_keywords.append(keyword)\n",
        "        seen_keywords.add(keyword)\n",
        "    if len(top_keywords) >= 10:\n",
        "        break\n",
        "\n",
        "# 상위 5개 키워드 출력\n",
        "print(\"Top 5 Keywords:\", top_keywords)\n",
        "\n",
        "# 결과 예시 출력\n",
        "top_keywords"
      ],
      "metadata": {
        "colab": {
          "base_uri": "https://localhost:8080/"
        },
        "id": "xi5OKM85T-6I",
        "outputId": "4d170775-18aa-42ff-ccf0-06bc12484102"
      },
      "execution_count": null,
      "outputs": [
        {
          "output_type": "stream",
          "name": "stdout",
          "text": [
            "Top 5 Keywords: ['모델', '데이터', 'attention', '성능', '이미지', '학습', '분류', 'layer', '클래스', '기법']\n"
          ]
        },
        {
          "output_type": "execute_result",
          "data": {
            "text/plain": [
              "['모델', '데이터', 'attention', '성능', '이미지', '학습', '분류', 'layer', '클래스', '기법']"
            ]
          },
          "metadata": {},
          "execution_count": 27
        }
      ]
    }
  ]
}